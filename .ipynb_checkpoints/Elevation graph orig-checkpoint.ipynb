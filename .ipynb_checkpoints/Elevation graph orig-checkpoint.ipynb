{
 "cells": [
  {
   "cell_type": "code",
   "execution_count": 4,
   "metadata": {},
   "outputs": [],
   "source": [
    "import pandas as pd\n",
    "import numpy as np\n",
    "import re\n",
    "\n",
    "%matplotlib inline\n",
    "import matplotlib.pyplot as plt"
   ]
  },
  {
   "cell_type": "code",
   "execution_count": 15,
   "metadata": {},
   "outputs": [],
   "source": [
    "class route(object):\n",
    "    def __init__(self):\n",
    "        self.db = pd.DataFrame()\n",
    "        self.df_graph = pd.DataFrame()\n",
    "        #distance from point to point\n",
    "        self.pp_distance = pd.DataFrame()\n",
    "        self.new_df = pd.DataFrame()\n",
    "    \n",
    "    def read_data(self, f):\n",
    "        self.f = f\n",
    "        lat = []\n",
    "        lon = []\n",
    "        ele = []\n",
    "        with open(f, 'r') as f:\n",
    "            y = f.read()\n",
    "        for lat_v in re.findall(r'\\slat=\"([\\-\\d\\.]+)\"', y):\n",
    "            lat.append(float(lat_v))\n",
    "        for long_v in re.findall(r'\\slon=\"([\\-\\d\\.]+)\"', y):\n",
    "            lon.append(float(long_v))\n",
    "        for ele_v in re.findall(r'<ele>([\\-\\d\\.]+)</ele>', y):\n",
    "            ele.append(float(ele_v))\n",
    "        self.db['X'] = lon\n",
    "        self.db['Y'] = lat\n",
    "        self.db['ele'] = ele\n",
    "    \n",
    "    def ptdistance(self):\n",
    "        from math import sin, cos, sqrt, degrees, radians, asin, acos\n",
    "        #earth radius (mi)\n",
    "        r = 3958.8\n",
    "        pp_distance = []\n",
    "        #inverse haversine\n",
    "        for a in range (0,self.db.shape[0]-1):\n",
    "            lat1 = radians(self.db.loc[a]['Y'])\n",
    "            lat2 = radians(self.db.loc[a+1]['Y'])\n",
    "            long1 = radians(self.db.loc[a]['X'])\n",
    "            long2 = radians(self.db.loc[a+1]['X'])\n",
    "            urad1 = sin((lat2-lat1)/2)**2\n",
    "            urad2 = cos(lat1) * cos(lat2) * sin((long2-long1)/2)**2\n",
    "            dis = 2 * r * asin(sqrt(urad1 + urad2))\n",
    "            pp_distance.append(dis)\n",
    "        self.pp_distance['d'] = pp_distance\n",
    "        \n",
    "    def ttldistance(self):\n",
    "        dorstance = []\n",
    "        dorstance.append(self.pp_distance.loc[0]['d'])\n",
    "        dorstance.append(self.pp_distance.loc[0]['d'] + self.pp_distance.loc[1]['d'])\n",
    "        for a in range (2,self.db.shape[0]-1):\n",
    "            dorstance.append(dorstance[a-1] + self.pp_distance.loc[a]['d'])\n",
    "        self.df_graph['distance'] = dorstance\n",
    "\n",
    "    def ele(self):\n",
    "        eleva=[]\n",
    "        for a in range (0, self.db.shape[0]-1):\n",
    "            ele1 = self.db.loc[a]['ele']\n",
    "            ele2 = self.db.loc[a+1]['ele']\n",
    "            avg = (ele1 + ele2) / 2\n",
    "            eleva.append(avg)\n",
    "        self.df_graph['elevation'] = eleva\n",
    "        \n",
    "    def graph_prep(self):\n",
    "        self.ptdistance()\n",
    "        self.ttldistance()\n",
    "        self.ele()\n",
    "        return self.df_graph\n",
    "    \n",
    "    def get_graph(self, npts):\n",
    "        dist = self.df_graph['distance'].values.reshape(-1,)\n",
    "        elv = self.df_graph['elevation'].values\n",
    "        from scipy.interpolate import make_interp_spline, BSpline\n",
    "        self.xnew = np.linspace(dist.min(),dist.max(),npts) #300 represents number of points to make between T.min and T.max\n",
    "        spl = make_interp_spline(dist, elv, k=1) #BSpline object\n",
    "        self.power_smooth = spl(self.xnew)\n",
    "        plt.plot(self.xnew,self.power_smooth, color = 'orange')\n",
    "        title_name = re.search(r'([\\w_]*)\\.', self.f).group()\n",
    "        plt.title(title_name)\n",
    "        plt.show()\n",
    "    \n",
    "    def get_inter_data(self):\n",
    "        self.new_df['Distance'] = self.xnew\n",
    "        self.new_df['Elevation'] = self.power_smooth\n",
    "        return self.new_df"
   ]
  },
  {
   "cell_type": "code",
   "execution_count": 64,
   "metadata": {},
   "outputs": [],
   "source": [
    "class connect_routes(object):\n",
    "    def __init__(self, f1, f2):\n",
    "        self.f1 = f1\n",
    "        self.f2 = f2\n",
    "        self.r1 = route()\n",
    "        self.r1.read_data(f1)\n",
    "        df_r1 = self.r1.graph_prep()\n",
    "        self.r2 = route()\n",
    "        self.r2.read_data(f2)\n",
    "        d1 = self.r1.db\n",
    "        d2 = self.r2.db\n",
    "        d1 = d1.append(d2)\n",
    "        d1.reset_index(inplace = True, drop = True)\n",
    "        self.result = route()\n",
    "        self.result.f = re.findall(r'^([\\w_]+)\\.', f1)[0] + re.findall(r'(_[\\w]+)\\.', f2)[0] + '.gpx'\n",
    "        self.result.db = d1\n",
    "        df_result = self.result.graph_prep()\n",
    "        \n",
    "    def get_graph(self):\n",
    "        self.result.get_graph(20)\n",
    "        \n",
    "    def save_data(self):\n",
    "        self.result_ndf = self.result.get_inter_data()\n",
    "        self.result_ndf.to_csv(re.findall(r'^([\\w_]+)\\.', self.f1)[0] + re.findall(r'(_[\\w]+)\\.', self.f2)[0] + '.csv')"
   ]
  },
  {
   "cell_type": "code",
   "execution_count": 69,
   "metadata": {},
   "outputs": [
    {
     "name": "stdout",
     "output_type": "stream",
     "text": [
      "hedrick_cross.gpx\n"
     ]
    }
   ],
   "source": [
    "print f1"
   ]
  },
  {
   "cell_type": "markdown",
   "metadata": {},
   "source": [
    "## Boelter"
   ]
  },
  {
   "cell_type": "markdown",
   "metadata": {},
   "source": [
    "### Hedrick_Cross_Boelter"
   ]
  },
  {
   "cell_type": "code",
   "execution_count": 72,
   "metadata": {},
   "outputs": [
    {
     "data": {
      "image/png": "[encoded data removed]",
      "text/plain": [
       "<Figure size 432x288 with 1 Axes>"
      ]
     },
     "metadata": {
      "needs_background": "light"
     },
     "output_type": "display_data"
    }
   ],
   "source": [
    "hedrick_cross_boelter = connect_routes('hedrick_cross.gpx', \"cross_boelter.gpx\")\n",
    "hedrick_cross_boelter.get_graph()\n",
    "hedrick_cross_boelter.save_data()"
   ]
  },
  {
   "cell_type": "code",
   "execution_count": 95,
   "metadata": {},
   "outputs": [
    {
     "name": "stdout",
     "output_type": "stream",
     "text": [
      "44\n",
      "44\n",
      "0\n"
     ]
    }
   ],
   "source": [
    "f = 'cross_boelter.gpx'\n",
    "lat = []\n",
    "lon = []\n",
    "ele = []\n",
    "with open(f, 'r') as f:\n",
    "    y = f.read()\n",
    "for lat_v in re.findall(r'\\slat=\"([\\-\\d\\.]+)\"', y):\n",
    "    lat.append(float(lat_v))\n",
    "for long_v in re.findall(r'\\slon=\"([\\-\\d\\.]+)\"', y):\n",
    "    lon.append(float(long_v))\n",
    "print len(lat)\n",
    "print len(lon)\n",
    "print len(ele)"
   ]
  },
  {
   "cell_type": "code",
   "execution_count": 96,
   "metadata": {},
   "outputs": [
    {
     "name": "stdout",
     "output_type": "stream",
     "text": [
      "44\n"
     ]
    }
   ],
   "source": [
    "for ele_v in re.findall(r'<ele>([\\-\\d\\.]+)</ele>', y):\n",
    "    ele.append(float(ele_v))\n",
    "print len(ele)   "
   ]
  },
  {
   "cell_type": "code",
   "execution_count": 97,
   "metadata": {},
   "outputs": [
    {
     "data": {
      "text/plain": [
       "[128.8,\n",
       " 128.0,\n",
       " 126.8,\n",
       " 122.0,\n",
       " 122.2,\n",
       " 118.0,\n",
       " 122.0,\n",
       " 118.0,\n",
       " 118.0,\n",
       " 118.0,\n",
       " 116.0,\n",
       " 118.0,\n",
       " 117.0,\n",
       " 115.9,\n",
       " 116.9,\n",
       " 118.1,\n",
       " 118.5,\n",
       " 118.0,\n",
       " 118.0,\n",
       " 118.0,\n",
       " 120.0,\n",
       " 118.0,\n",
       " 120.0,\n",
       " 120.0,\n",
       " 124.0,\n",
       " 124.0,\n",
       " 126.0,\n",
       " 126.0,\n",
       " 128.3,\n",
       " 131.0,\n",
       " 132.0,\n",
       " 130.0,\n",
       " 132.0,\n",
       " 133.0,\n",
       " 133.2,\n",
       " 135.1,\n",
       " 131.0,\n",
       " 131.8,\n",
       " 133.4,\n",
       " 128.0,\n",
       " 127.0,\n",
       " 130.2,\n",
       " 127.1,\n",
       " 127.4]"
      ]
     },
     "execution_count": 97,
     "metadata": {},
     "output_type": "execute_result"
    }
   ],
   "source": [
    "ele"
   ]
  },
  {
   "cell_type": "markdown",
   "metadata": {},
   "source": [
    "### Rieber_Cross_Boelter"
   ]
  },
  {
   "cell_type": "code",
   "execution_count": 76,
   "metadata": {},
   "outputs": [
    {
     "ename": "ValueError",
     "evalue": "Length of values does not match length of index",
     "output_type": "error",
     "traceback": [
      "\u001b[0;31m---------------------------------------------------------------------------\u001b[0m",
      "\u001b[0;31mValueError\u001b[0m                                Traceback (most recent call last)",
      "\u001b[0;32m<ipython-input-76-8ebf719b20af>\u001b[0m in \u001b[0;36m<module>\u001b[0;34m()\u001b[0m\n\u001b[0;32m----> 1\u001b[0;31m \u001b[0mrieber_cross_boelter\u001b[0m \u001b[0;34m=\u001b[0m \u001b[0mconnect_routes\u001b[0m\u001b[0;34m(\u001b[0m\u001b[0;34m'rieber_cross.gpx'\u001b[0m\u001b[0;34m,\u001b[0m \u001b[0;34m\"cross_boelter.gpx\"\u001b[0m\u001b[0;34m)\u001b[0m\u001b[0;34m\u001b[0m\u001b[0m\n\u001b[0m\u001b[1;32m      2\u001b[0m \u001b[0mrieber_cross_boelter\u001b[0m\u001b[0;34m.\u001b[0m\u001b[0mget_graph\u001b[0m\u001b[0;34m(\u001b[0m\u001b[0;34m)\u001b[0m\u001b[0;34m\u001b[0m\u001b[0m\n\u001b[1;32m      3\u001b[0m \u001b[0mrieber_cross_boelter\u001b[0m\u001b[0;34m.\u001b[0m\u001b[0msave_data\u001b[0m\u001b[0;34m(\u001b[0m\u001b[0;34m)\u001b[0m\u001b[0;34m\u001b[0m\u001b[0m\n",
      "\u001b[0;32m<ipython-input-64-9da03b541ea8>\u001b[0m in \u001b[0;36m__init__\u001b[0;34m(self, f1, f2)\u001b[0m\n\u001b[1;32m      7\u001b[0m         \u001b[0mdf_r1\u001b[0m \u001b[0;34m=\u001b[0m \u001b[0mself\u001b[0m\u001b[0;34m.\u001b[0m\u001b[0mr1\u001b[0m\u001b[0;34m.\u001b[0m\u001b[0mgraph_prep\u001b[0m\u001b[0;34m(\u001b[0m\u001b[0;34m)\u001b[0m\u001b[0;34m\u001b[0m\u001b[0m\n\u001b[1;32m      8\u001b[0m         \u001b[0mself\u001b[0m\u001b[0;34m.\u001b[0m\u001b[0mr2\u001b[0m \u001b[0;34m=\u001b[0m \u001b[0mroute\u001b[0m\u001b[0;34m(\u001b[0m\u001b[0;34m)\u001b[0m\u001b[0;34m\u001b[0m\u001b[0m\n\u001b[0;32m----> 9\u001b[0;31m         \u001b[0mself\u001b[0m\u001b[0;34m.\u001b[0m\u001b[0mr2\u001b[0m\u001b[0;34m.\u001b[0m\u001b[0mread_data\u001b[0m\u001b[0;34m(\u001b[0m\u001b[0mf2\u001b[0m\u001b[0;34m)\u001b[0m\u001b[0;34m\u001b[0m\u001b[0m\n\u001b[0m\u001b[1;32m     10\u001b[0m         \u001b[0md1\u001b[0m \u001b[0;34m=\u001b[0m \u001b[0mself\u001b[0m\u001b[0;34m.\u001b[0m\u001b[0mr1\u001b[0m\u001b[0;34m.\u001b[0m\u001b[0mdb\u001b[0m\u001b[0;34m\u001b[0m\u001b[0m\n\u001b[1;32m     11\u001b[0m         \u001b[0md2\u001b[0m \u001b[0;34m=\u001b[0m \u001b[0mself\u001b[0m\u001b[0;34m.\u001b[0m\u001b[0mr2\u001b[0m\u001b[0;34m.\u001b[0m\u001b[0mdb\u001b[0m\u001b[0;34m\u001b[0m\u001b[0m\n",
      "\u001b[0;32m<ipython-input-15-9124bd6a7dac>\u001b[0m in \u001b[0;36mread_data\u001b[0;34m(self, f)\u001b[0m\n\u001b[1;32m     22\u001b[0m         \u001b[0mself\u001b[0m\u001b[0;34m.\u001b[0m\u001b[0mdb\u001b[0m\u001b[0;34m[\u001b[0m\u001b[0;34m'X'\u001b[0m\u001b[0;34m]\u001b[0m \u001b[0;34m=\u001b[0m \u001b[0mlon\u001b[0m\u001b[0;34m\u001b[0m\u001b[0m\n\u001b[1;32m     23\u001b[0m         \u001b[0mself\u001b[0m\u001b[0;34m.\u001b[0m\u001b[0mdb\u001b[0m\u001b[0;34m[\u001b[0m\u001b[0;34m'Y'\u001b[0m\u001b[0;34m]\u001b[0m \u001b[0;34m=\u001b[0m \u001b[0mlat\u001b[0m\u001b[0;34m\u001b[0m\u001b[0m\n\u001b[0;32m---> 24\u001b[0;31m         \u001b[0mself\u001b[0m\u001b[0;34m.\u001b[0m\u001b[0mdb\u001b[0m\u001b[0;34m[\u001b[0m\u001b[0;34m'ele'\u001b[0m\u001b[0;34m]\u001b[0m \u001b[0;34m=\u001b[0m \u001b[0mele\u001b[0m\u001b[0;34m\u001b[0m\u001b[0m\n\u001b[0m\u001b[1;32m     25\u001b[0m \u001b[0;34m\u001b[0m\u001b[0m\n\u001b[1;32m     26\u001b[0m     \u001b[0;32mdef\u001b[0m \u001b[0mptdistance\u001b[0m\u001b[0;34m(\u001b[0m\u001b[0mself\u001b[0m\u001b[0;34m)\u001b[0m\u001b[0;34m:\u001b[0m\u001b[0;34m\u001b[0m\u001b[0m\n",
      "\u001b[0;32m/Users/huangyihuan/anaconda2/lib/python2.7/site-packages/pandas/core/frame.pyc\u001b[0m in \u001b[0;36m__setitem__\u001b[0;34m(self, key, value)\u001b[0m\n\u001b[1;32m   3368\u001b[0m         \u001b[0;32melse\u001b[0m\u001b[0;34m:\u001b[0m\u001b[0;34m\u001b[0m\u001b[0m\n\u001b[1;32m   3369\u001b[0m             \u001b[0;31m# set column\u001b[0m\u001b[0;34m\u001b[0m\u001b[0;34m\u001b[0m\u001b[0m\n\u001b[0;32m-> 3370\u001b[0;31m             \u001b[0mself\u001b[0m\u001b[0;34m.\u001b[0m\u001b[0m_set_item\u001b[0m\u001b[0;34m(\u001b[0m\u001b[0mkey\u001b[0m\u001b[0;34m,\u001b[0m \u001b[0mvalue\u001b[0m\u001b[0;34m)\u001b[0m\u001b[0;34m\u001b[0m\u001b[0m\n\u001b[0m\u001b[1;32m   3371\u001b[0m \u001b[0;34m\u001b[0m\u001b[0m\n\u001b[1;32m   3372\u001b[0m     \u001b[0;32mdef\u001b[0m \u001b[0m_setitem_slice\u001b[0m\u001b[0;34m(\u001b[0m\u001b[0mself\u001b[0m\u001b[0;34m,\u001b[0m \u001b[0mkey\u001b[0m\u001b[0;34m,\u001b[0m \u001b[0mvalue\u001b[0m\u001b[0;34m)\u001b[0m\u001b[0;34m:\u001b[0m\u001b[0;34m\u001b[0m\u001b[0m\n",
      "\u001b[0;32m/Users/huangyihuan/anaconda2/lib/python2.7/site-packages/pandas/core/frame.pyc\u001b[0m in \u001b[0;36m_set_item\u001b[0;34m(self, key, value)\u001b[0m\n\u001b[1;32m   3443\u001b[0m \u001b[0;34m\u001b[0m\u001b[0m\n\u001b[1;32m   3444\u001b[0m         \u001b[0mself\u001b[0m\u001b[0;34m.\u001b[0m\u001b[0m_ensure_valid_index\u001b[0m\u001b[0;34m(\u001b[0m\u001b[0mvalue\u001b[0m\u001b[0;34m)\u001b[0m\u001b[0;34m\u001b[0m\u001b[0m\n\u001b[0;32m-> 3445\u001b[0;31m         \u001b[0mvalue\u001b[0m \u001b[0;34m=\u001b[0m \u001b[0mself\u001b[0m\u001b[0;34m.\u001b[0m\u001b[0m_sanitize_column\u001b[0m\u001b[0;34m(\u001b[0m\u001b[0mkey\u001b[0m\u001b[0;34m,\u001b[0m \u001b[0mvalue\u001b[0m\u001b[0;34m)\u001b[0m\u001b[0;34m\u001b[0m\u001b[0m\n\u001b[0m\u001b[1;32m   3446\u001b[0m         \u001b[0mNDFrame\u001b[0m\u001b[0;34m.\u001b[0m\u001b[0m_set_item\u001b[0m\u001b[0;34m(\u001b[0m\u001b[0mself\u001b[0m\u001b[0;34m,\u001b[0m \u001b[0mkey\u001b[0m\u001b[0;34m,\u001b[0m \u001b[0mvalue\u001b[0m\u001b[0;34m)\u001b[0m\u001b[0;34m\u001b[0m\u001b[0m\n\u001b[1;32m   3447\u001b[0m \u001b[0;34m\u001b[0m\u001b[0m\n",
      "\u001b[0;32m/Users/huangyihuan/anaconda2/lib/python2.7/site-packages/pandas/core/frame.pyc\u001b[0m in \u001b[0;36m_sanitize_column\u001b[0;34m(self, key, value, broadcast)\u001b[0m\n\u001b[1;32m   3628\u001b[0m \u001b[0;34m\u001b[0m\u001b[0m\n\u001b[1;32m   3629\u001b[0m             \u001b[0;31m# turn me into an ndarray\u001b[0m\u001b[0;34m\u001b[0m\u001b[0;34m\u001b[0m\u001b[0m\n\u001b[0;32m-> 3630\u001b[0;31m             \u001b[0mvalue\u001b[0m \u001b[0;34m=\u001b[0m \u001b[0msanitize_index\u001b[0m\u001b[0;34m(\u001b[0m\u001b[0mvalue\u001b[0m\u001b[0;34m,\u001b[0m \u001b[0mself\u001b[0m\u001b[0;34m.\u001b[0m\u001b[0mindex\u001b[0m\u001b[0;34m,\u001b[0m \u001b[0mcopy\u001b[0m\u001b[0;34m=\u001b[0m\u001b[0mFalse\u001b[0m\u001b[0;34m)\u001b[0m\u001b[0;34m\u001b[0m\u001b[0m\n\u001b[0m\u001b[1;32m   3631\u001b[0m             \u001b[0;32mif\u001b[0m \u001b[0;32mnot\u001b[0m \u001b[0misinstance\u001b[0m\u001b[0;34m(\u001b[0m\u001b[0mvalue\u001b[0m\u001b[0;34m,\u001b[0m \u001b[0;34m(\u001b[0m\u001b[0mnp\u001b[0m\u001b[0;34m.\u001b[0m\u001b[0mndarray\u001b[0m\u001b[0;34m,\u001b[0m \u001b[0mIndex\u001b[0m\u001b[0;34m)\u001b[0m\u001b[0;34m)\u001b[0m\u001b[0;34m:\u001b[0m\u001b[0;34m\u001b[0m\u001b[0m\n\u001b[1;32m   3632\u001b[0m                 \u001b[0;32mif\u001b[0m \u001b[0misinstance\u001b[0m\u001b[0;34m(\u001b[0m\u001b[0mvalue\u001b[0m\u001b[0;34m,\u001b[0m \u001b[0mlist\u001b[0m\u001b[0;34m)\u001b[0m \u001b[0;32mand\u001b[0m \u001b[0mlen\u001b[0m\u001b[0;34m(\u001b[0m\u001b[0mvalue\u001b[0m\u001b[0;34m)\u001b[0m \u001b[0;34m>\u001b[0m \u001b[0;36m0\u001b[0m\u001b[0;34m:\u001b[0m\u001b[0;34m\u001b[0m\u001b[0m\n",
      "\u001b[0;32m/Users/huangyihuan/anaconda2/lib/python2.7/site-packages/pandas/core/internals/construction.pyc\u001b[0m in \u001b[0;36msanitize_index\u001b[0;34m(data, index, copy)\u001b[0m\n\u001b[1;32m    517\u001b[0m \u001b[0;34m\u001b[0m\u001b[0m\n\u001b[1;32m    518\u001b[0m     \u001b[0;32mif\u001b[0m \u001b[0mlen\u001b[0m\u001b[0;34m(\u001b[0m\u001b[0mdata\u001b[0m\u001b[0;34m)\u001b[0m \u001b[0;34m!=\u001b[0m \u001b[0mlen\u001b[0m\u001b[0;34m(\u001b[0m\u001b[0mindex\u001b[0m\u001b[0;34m)\u001b[0m\u001b[0;34m:\u001b[0m\u001b[0;34m\u001b[0m\u001b[0m\n\u001b[0;32m--> 519\u001b[0;31m         \u001b[0;32mraise\u001b[0m \u001b[0mValueError\u001b[0m\u001b[0;34m(\u001b[0m\u001b[0;34m'Length of values does not match length of index'\u001b[0m\u001b[0;34m)\u001b[0m\u001b[0;34m\u001b[0m\u001b[0m\n\u001b[0m\u001b[1;32m    520\u001b[0m \u001b[0;34m\u001b[0m\u001b[0m\n\u001b[1;32m    521\u001b[0m     \u001b[0;32mif\u001b[0m \u001b[0misinstance\u001b[0m\u001b[0;34m(\u001b[0m\u001b[0mdata\u001b[0m\u001b[0;34m,\u001b[0m \u001b[0mABCIndexClass\u001b[0m\u001b[0;34m)\u001b[0m \u001b[0;32mand\u001b[0m \u001b[0;32mnot\u001b[0m \u001b[0mcopy\u001b[0m\u001b[0;34m:\u001b[0m\u001b[0;34m\u001b[0m\u001b[0m\n",
      "\u001b[0;31mValueError\u001b[0m: Length of values does not match length of index"
     ]
    }
   ],
   "source": [
    "rieber_cross_boelter = connect_routes('rieber_cross.gpx', \"cross_boelter.gpx\")\n",
    "rieber_cross_boelter.get_graph()\n",
    "rieber_cross_boelter.save_data()"
   ]
  },
  {
   "cell_type": "markdown",
   "metadata": {},
   "source": [
    "### Hedrick_Cross_Tennis_Boelter"
   ]
  },
  {
   "cell_type": "code",
   "execution_count": 75,
   "metadata": {},
   "outputs": [
    {
     "data": {
      "image/png": "[encoded data removed]",
      "text/plain": [
       "<Figure size 432x288 with 1 Axes>"
      ]
     },
     "metadata": {
      "needs_background": "light"
     },
     "output_type": "display_data"
    }
   ],
   "source": [
    "rieber_cross_tennis_boelter = connect_routes('rieber_cross.gpx', \"cross_tennis_boelter.gpx\")\n",
    "rieber_cross_tennis_boelter.get_graph()\n",
    "rieber_cross_tennis_boelter.save_data()"
   ]
  },
  {
   "cell_type": "markdown",
   "metadata": {},
   "source": [
    "## Target"
   ]
  },
  {
   "cell_type": "code",
   "execution_count": 8,
   "metadata": {},
   "outputs": [
    {
     "data": {
      "image/png": "[encoded data removed]",
      "text/plain": [
       "<Figure size 432x288 with 1 Axes>"
      ]
     },
     "metadata": {
      "needs_background": "light"
     },
     "output_type": "display_data"
    }
   ],
   "source": [
    "cross_target = route()\n",
    "cross_target.read_data('cross_target.gpx')\n",
    "df_cross_target = cross_target.graph_prep()\n",
    "df_cross_target.head()\n",
    "cross_target.get_graph(20)"
   ]
  },
  {
   "cell_type": "markdown",
   "metadata": {},
   "source": [
    "### Rieber_Cross_Target"
   ]
  },
  {
   "cell_type": "code",
   "execution_count": 9,
   "metadata": {},
   "outputs": [
    {
     "data": {
      "text/html": [
       "<div>\n",
       "<style scoped>\n",
       "    .dataframe tbody tr th:only-of-type {\n",
       "        vertical-align: middle;\n",
       "    }\n",
       "\n",
       "    .dataframe tbody tr th {\n",
       "        vertical-align: top;\n",
       "    }\n",
       "\n",
       "    .dataframe thead th {\n",
       "        text-align: right;\n",
       "    }\n",
       "</style>\n",
       "<table border=\"1\" class=\"dataframe\">\n",
       "  <thead>\n",
       "    <tr style=\"text-align: right;\">\n",
       "      <th></th>\n",
       "      <th>X</th>\n",
       "      <th>Y</th>\n",
       "      <th>ele</th>\n",
       "    </tr>\n",
       "  </thead>\n",
       "  <tbody>\n",
       "    <tr>\n",
       "      <th>0</th>\n",
       "      <td>-118.451936</td>\n",
       "      <td>34.072551</td>\n",
       "      <td>156.8</td>\n",
       "    </tr>\n",
       "    <tr>\n",
       "      <th>1</th>\n",
       "      <td>-118.451889</td>\n",
       "      <td>34.072579</td>\n",
       "      <td>155.8</td>\n",
       "    </tr>\n",
       "    <tr>\n",
       "      <th>2</th>\n",
       "      <td>-118.451837</td>\n",
       "      <td>34.072584</td>\n",
       "      <td>156.0</td>\n",
       "    </tr>\n",
       "    <tr>\n",
       "      <th>3</th>\n",
       "      <td>-118.451520</td>\n",
       "      <td>34.072574</td>\n",
       "      <td>158.0</td>\n",
       "    </tr>\n",
       "    <tr>\n",
       "      <th>4</th>\n",
       "      <td>-118.451419</td>\n",
       "      <td>34.072489</td>\n",
       "      <td>156.0</td>\n",
       "    </tr>\n",
       "  </tbody>\n",
       "</table>\n",
       "</div>"
      ],
      "text/plain": [
       "            X          Y    ele\n",
       "0 -118.451936  34.072551  156.8\n",
       "1 -118.451889  34.072579  155.8\n",
       "2 -118.451837  34.072584  156.0\n",
       "3 -118.451520  34.072574  158.0\n",
       "4 -118.451419  34.072489  156.0"
      ]
     },
     "execution_count": 9,
     "metadata": {},
     "output_type": "execute_result"
    }
   ],
   "source": [
    "d1 = rieber_cross.db\n",
    "d2 = cross_target.db\n",
    "d1 = d1.append(d2)\n",
    "d1.reset_index(inplace = True, drop = True)\n",
    "d1.head()"
   ]
  },
  {
   "cell_type": "code",
   "execution_count": 10,
   "metadata": {},
   "outputs": [
    {
     "data": {
      "image/png": "[encoded data removed]",
      "text/plain": [
       "<Figure size 432x288 with 1 Axes>"
      ]
     },
     "metadata": {
      "needs_background": "light"
     },
     "output_type": "display_data"
    }
   ],
   "source": [
    "rieber_cross_target = route()\n",
    "rieber_cross_target.f = 'rieber_cross_target.gpx'\n",
    "rieber_cross_target.db = d1\n",
    "df_rieber_cross_target = rieber_cross_target.graph_prep()\n",
    "rieber_cross_target.get_graph(20)\n",
    "rieber_cross_target_ndf = rieber_cross_target.get_inter_data()\n",
    "rieber_cross_target_ndf.to_csv('rieber_cross_boelter_ndf.csv')\n",
    "rieber_cross_target_ndf.to_csv('rieber_cross_target.csv')"
   ]
  },
  {
   "cell_type": "markdown",
   "metadata": {},
   "source": [
    "### Hedrick_Cross_Target"
   ]
  },
  {
   "cell_type": "code",
   "execution_count": 11,
   "metadata": {},
   "outputs": [
    {
     "data": {
      "text/html": [
       "<div>\n",
       "<style scoped>\n",
       "    .dataframe tbody tr th:only-of-type {\n",
       "        vertical-align: middle;\n",
       "    }\n",
       "\n",
       "    .dataframe tbody tr th {\n",
       "        vertical-align: top;\n",
       "    }\n",
       "\n",
       "    .dataframe thead th {\n",
       "        text-align: right;\n",
       "    }\n",
       "</style>\n",
       "<table border=\"1\" class=\"dataframe\">\n",
       "  <thead>\n",
       "    <tr style=\"text-align: right;\">\n",
       "      <th></th>\n",
       "      <th>X</th>\n",
       "      <th>Y</th>\n",
       "      <th>ele</th>\n",
       "    </tr>\n",
       "  </thead>\n",
       "  <tbody>\n",
       "    <tr>\n",
       "      <th>0</th>\n",
       "      <td>-118.452011</td>\n",
       "      <td>34.073297</td>\n",
       "      <td>161.2</td>\n",
       "    </tr>\n",
       "    <tr>\n",
       "      <th>1</th>\n",
       "      <td>-118.452026</td>\n",
       "      <td>34.073353</td>\n",
       "      <td>160.6</td>\n",
       "    </tr>\n",
       "    <tr>\n",
       "      <th>2</th>\n",
       "      <td>-118.451857</td>\n",
       "      <td>34.073079</td>\n",
       "      <td>159.3</td>\n",
       "    </tr>\n",
       "    <tr>\n",
       "      <th>3</th>\n",
       "      <td>-118.451839</td>\n",
       "      <td>34.073024</td>\n",
       "      <td>158.9</td>\n",
       "    </tr>\n",
       "    <tr>\n",
       "      <th>4</th>\n",
       "      <td>-118.451836</td>\n",
       "      <td>34.072936</td>\n",
       "      <td>158.0</td>\n",
       "    </tr>\n",
       "  </tbody>\n",
       "</table>\n",
       "</div>"
      ],
      "text/plain": [
       "            X          Y    ele\n",
       "0 -118.452011  34.073297  161.2\n",
       "1 -118.452026  34.073353  160.6\n",
       "2 -118.451857  34.073079  159.3\n",
       "3 -118.451839  34.073024  158.9\n",
       "4 -118.451836  34.072936  158.0"
      ]
     },
     "execution_count": 11,
     "metadata": {},
     "output_type": "execute_result"
    }
   ],
   "source": [
    "d1 = hedrick_cross.db\n",
    "d2 = cross_target.db\n",
    "d1 = d1.append(d2)\n",
    "d1.reset_index(inplace = True, drop = True)\n",
    "d1.head()"
   ]
  },
  {
   "cell_type": "code",
   "execution_count": 12,
   "metadata": {},
   "outputs": [
    {
     "data": {
      "image/png": "[encoded data removed]",
      "text/plain": [
       "<Figure size 432x288 with 1 Axes>"
      ]
     },
     "metadata": {
      "needs_background": "light"
     },
     "output_type": "display_data"
    }
   ],
   "source": [
    "hedrick_cross_target = route()\n",
    "hedrick_cross_target.f = 'hedrick_cross_target.gpx'\n",
    "hedrick_cross_target.db = d1\n",
    "df_hedrick_cross_target = hedrick_cross_target.graph_prep()\n",
    "hedrick_cross_target.get_graph(20)\n",
    "hedrick_cross_target_ndf = hedrick_cross_target.get_inter_data()\n",
    "hedrick_cross_target_ndf.to_csv('hedrick_cross_target.csv')"
   ]
  },
  {
   "cell_type": "markdown",
   "metadata": {},
   "source": [
    "## Powell"
   ]
  },
  {
   "cell_type": "code",
   "execution_count": 13,
   "metadata": {},
   "outputs": [
    {
     "data": {
      "image/png": "[encoded data removed]",
      "text/plain": [
       "<Figure size 432x288 with 1 Axes>"
      ]
     },
     "metadata": {
      "needs_background": "light"
     },
     "output_type": "display_data"
    }
   ],
   "source": [
    "stop_powell = route()\n",
    "stop_powell.read_data('stop_powell.gpx')\n",
    "df_stop_powell = stop_powell.graph_prep()\n",
    "df_stop_powell.head()\n",
    "stop_powell.get_graph(20)"
   ]
  },
  {
   "cell_type": "markdown",
   "metadata": {},
   "source": [
    "### Sproul_Stop_Powell"
   ]
  },
  {
   "cell_type": "code",
   "execution_count": 14,
   "metadata": {},
   "outputs": [
    {
     "data": {
      "text/html": [
       "<div>\n",
       "<style scoped>\n",
       "    .dataframe tbody tr th:only-of-type {\n",
       "        vertical-align: middle;\n",
       "    }\n",
       "\n",
       "    .dataframe tbody tr th {\n",
       "        vertical-align: top;\n",
       "    }\n",
       "\n",
       "    .dataframe thead th {\n",
       "        text-align: right;\n",
       "    }\n",
       "</style>\n",
       "<table border=\"1\" class=\"dataframe\">\n",
       "  <thead>\n",
       "    <tr style=\"text-align: right;\">\n",
       "      <th></th>\n",
       "      <th>X</th>\n",
       "      <th>Y</th>\n",
       "      <th>ele</th>\n",
       "    </tr>\n",
       "  </thead>\n",
       "  <tbody>\n",
       "    <tr>\n",
       "      <th>0</th>\n",
       "      <td>-118.450505</td>\n",
       "      <td>34.071501</td>\n",
       "      <td>141.6</td>\n",
       "    </tr>\n",
       "    <tr>\n",
       "      <th>1</th>\n",
       "      <td>-118.450507</td>\n",
       "      <td>34.071577</td>\n",
       "      <td>142.2</td>\n",
       "    </tr>\n",
       "    <tr>\n",
       "      <th>2</th>\n",
       "      <td>-118.450528</td>\n",
       "      <td>34.071634</td>\n",
       "      <td>141.0</td>\n",
       "    </tr>\n",
       "    <tr>\n",
       "      <th>3</th>\n",
       "      <td>-118.450722</td>\n",
       "      <td>34.071972</td>\n",
       "      <td>144.2</td>\n",
       "    </tr>\n",
       "    <tr>\n",
       "      <th>4</th>\n",
       "      <td>-118.450744</td>\n",
       "      <td>34.072024</td>\n",
       "      <td>144.0</td>\n",
       "    </tr>\n",
       "  </tbody>\n",
       "</table>\n",
       "</div>"
      ],
      "text/plain": [
       "            X          Y    ele\n",
       "0 -118.450505  34.071501  141.6\n",
       "1 -118.450507  34.071577  142.2\n",
       "2 -118.450528  34.071634  141.0\n",
       "3 -118.450722  34.071972  144.2\n",
       "4 -118.450744  34.072024  144.0"
      ]
     },
     "execution_count": 14,
     "metadata": {},
     "output_type": "execute_result"
    }
   ],
   "source": [
    "sproul_stop = route()\n",
    "sproul_stop.read_data('sproul_stop.gpx')\n",
    "d1 = sproul_stop.db\n",
    "d2 = stop_powell.db\n",
    "d1 = d1.append(d2)\n",
    "d1.reset_index(inplace = True, drop = True)\n",
    "d1.head()"
   ]
  },
  {
   "cell_type": "code",
   "execution_count": 15,
   "metadata": {},
   "outputs": [
    {
     "data": {
      "image/png": "[encoded data removed]",
      "text/plain": [
       "<Figure size 432x288 with 1 Axes>"
      ]
     },
     "metadata": {
      "needs_background": "light"
     },
     "output_type": "display_data"
    }
   ],
   "source": [
    "sproul_stop_powell = route()\n",
    "sproul_stop_powell.f = 'sproul_stop_powell.gpx'\n",
    "sproul_stop_powell.db = d1\n",
    "df_sproul_stop_powell = sproul_stop_powell.graph_prep()\n",
    "sproul_stop_powell.get_graph(20)\n",
    "sproul_stop_powell_ndf = sproul_stop_powell.get_inter_data()\n",
    "sproul_stop_powell_ndf.to_csv('sproul_stop_powell.csv')"
   ]
  },
  {
   "cell_type": "markdown",
   "metadata": {},
   "source": [
    "## Sculpture"
   ]
  },
  {
   "cell_type": "code",
   "execution_count": 16,
   "metadata": {},
   "outputs": [
    {
     "data": {
      "image/png": "[encoded data removed]",
      "text/plain": [
       "<Figure size 432x288 with 1 Axes>"
      ]
     },
     "metadata": {
      "needs_background": "light"
     },
     "output_type": "display_data"
    }
   ],
   "source": [
    "stop_sculpture = route()\n",
    "stop_sculpture.read_data('stop_sculpture.gpx')\n",
    "df_stop_sculpture = stop_sculpture.graph_prep()\n",
    "df_stop_sculpture.head()\n",
    "stop_sculpture.get_graph(20)"
   ]
  },
  {
   "cell_type": "markdown",
   "metadata": {},
   "source": [
    "### Sproul_Stop_Sculpture"
   ]
  },
  {
   "cell_type": "code",
   "execution_count": 17,
   "metadata": {},
   "outputs": [
    {
     "data": {
      "text/html": [
       "<div>\n",
       "<style scoped>\n",
       "    .dataframe tbody tr th:only-of-type {\n",
       "        vertical-align: middle;\n",
       "    }\n",
       "\n",
       "    .dataframe tbody tr th {\n",
       "        vertical-align: top;\n",
       "    }\n",
       "\n",
       "    .dataframe thead th {\n",
       "        text-align: right;\n",
       "    }\n",
       "</style>\n",
       "<table border=\"1\" class=\"dataframe\">\n",
       "  <thead>\n",
       "    <tr style=\"text-align: right;\">\n",
       "      <th></th>\n",
       "      <th>X</th>\n",
       "      <th>Y</th>\n",
       "      <th>ele</th>\n",
       "    </tr>\n",
       "  </thead>\n",
       "  <tbody>\n",
       "    <tr>\n",
       "      <th>0</th>\n",
       "      <td>-118.450505</td>\n",
       "      <td>34.071501</td>\n",
       "      <td>141.6</td>\n",
       "    </tr>\n",
       "    <tr>\n",
       "      <th>1</th>\n",
       "      <td>-118.450507</td>\n",
       "      <td>34.071577</td>\n",
       "      <td>142.2</td>\n",
       "    </tr>\n",
       "    <tr>\n",
       "      <th>2</th>\n",
       "      <td>-118.450528</td>\n",
       "      <td>34.071634</td>\n",
       "      <td>141.0</td>\n",
       "    </tr>\n",
       "    <tr>\n",
       "      <th>3</th>\n",
       "      <td>-118.450722</td>\n",
       "      <td>34.071972</td>\n",
       "      <td>144.2</td>\n",
       "    </tr>\n",
       "    <tr>\n",
       "      <th>4</th>\n",
       "      <td>-118.450744</td>\n",
       "      <td>34.072024</td>\n",
       "      <td>144.0</td>\n",
       "    </tr>\n",
       "  </tbody>\n",
       "</table>\n",
       "</div>"
      ],
      "text/plain": [
       "            X          Y    ele\n",
       "0 -118.450505  34.071501  141.6\n",
       "1 -118.450507  34.071577  142.2\n",
       "2 -118.450528  34.071634  141.0\n",
       "3 -118.450722  34.071972  144.2\n",
       "4 -118.450744  34.072024  144.0"
      ]
     },
     "execution_count": 17,
     "metadata": {},
     "output_type": "execute_result"
    }
   ],
   "source": [
    "d1 = sproul_stop.db\n",
    "d2 = stop_sculpture.db\n",
    "d1 = d1.append(d2)\n",
    "d1.reset_index(inplace = True, drop = True)\n",
    "d1.head()"
   ]
  },
  {
   "cell_type": "code",
   "execution_count": 18,
   "metadata": {},
   "outputs": [
    {
     "data": {
      "image/png": "[encoded data removed]",
      "text/plain": [
       "<Figure size 432x288 with 1 Axes>"
      ]
     },
     "metadata": {
      "needs_background": "light"
     },
     "output_type": "display_data"
    }
   ],
   "source": [
    "sproul_stop_sculpture = route()\n",
    "sproul_stop_sculpture.f = 'sproul_stop_sculpture.gpx'\n",
    "sproul_stop_sculpture.db = d1\n",
    "df_sproul_stop_sculpture = sproul_stop_sculpture.graph_prep()\n",
    "sproul_stop_sculpture.get_graph(20)\n",
    "sproul_stop_sculpture_ndf = sproul_stop_sculpture.get_inter_data()\n",
    "sproul_stop_sculpture_ndf.to_csv('sproul_stop_sculpture.csv')"
   ]
  },
  {
   "cell_type": "markdown",
   "metadata": {},
   "source": [
    "## Others"
   ]
  },
  {
   "cell_type": "code",
   "execution_count": 19,
   "metadata": {},
   "outputs": [
    {
     "data": {
      "image/png": "[encoded data removed]",
      "text/plain": [
       "<Figure size 432x288 with 1 Axes>"
      ]
     },
     "metadata": {
      "needs_background": "light"
     },
     "output_type": "display_data"
    }
   ],
   "source": [
    "cross_sproul = route()\n",
    "cross_sproul.read_data('cross_sproul.gpx')\n",
    "df_cross_sproul = cross_sproul.graph_prep()\n",
    "df_cross_sproul.head()\n",
    "cross_sproul.get_graph(20)"
   ]
  },
  {
   "cell_type": "code",
   "execution_count": 20,
   "metadata": {},
   "outputs": [
    {
     "data": {
      "image/png": "[encoded data removed]",
      "text/plain": [
       "<Figure size 432x288 with 1 Axes>"
      ]
     },
     "metadata": {
      "needs_background": "light"
     },
     "output_type": "display_data"
    }
   ],
   "source": [
    "cross_stop = route()\n",
    "cross_stop.read_data('cross_stop.gpx')\n",
    "df_cross_stop = cross_stop.graph_prep()\n",
    "df_cross_stop.head()\n",
    "cross_stop.get_graph(20)"
   ]
  },
  {
   "cell_type": "code",
   "execution_count": 21,
   "metadata": {},
   "outputs": [
    {
     "ename": "NameError",
     "evalue": "name 'boelter_cross' is not defined",
     "output_type": "error",
     "traceback": [
      "\u001b[0;31m---------------------------------------------------------------------------\u001b[0m",
      "\u001b[0;31mNameError\u001b[0m                                 Traceback (most recent call last)",
      "\u001b[0;32m<ipython-input-21-c7ba699ebb14>\u001b[0m in \u001b[0;36m<module>\u001b[0;34m()\u001b[0m\n\u001b[0;32m----> 1\u001b[0;31m \u001b[0md1\u001b[0m \u001b[0;34m=\u001b[0m \u001b[0mboelter_cross\u001b[0m\u001b[0;34m.\u001b[0m\u001b[0mdb\u001b[0m\u001b[0;34m\u001b[0m\u001b[0m\n\u001b[0m",
      "\u001b[0;31mNameError\u001b[0m: name 'boelter_cross' is not defined"
     ]
    }
   ],
   "source": [
    "d1 = boelter_cross.db"
   ]
  },
  {
   "cell_type": "code",
   "execution_count": null,
   "metadata": {},
   "outputs": [],
   "source": [
    "d2 = cross_sproul.db"
   ]
  },
  {
   "cell_type": "code",
   "execution_count": null,
   "metadata": {},
   "outputs": [],
   "source": [
    "d1.append(d2)\n",
    "d1.reset_index(inplace = True, drop = True)\n",
    "try:\n",
    "    d1 = d1.drop(['level_0','index'], axis = 1)\n",
    "except:\n",
    "    pass\n",
    "boelter_sproul = route()\n",
    "boelter_sproul.f = 'boelter_sproul.gpx'\n",
    "boelter_sproul.db = d1\n",
    "df_boelter_sproul = boelter_sproul.graph_prep()\n",
    "boelter_sproul.get_graph(20)"
   ]
  }
 ],
 "metadata": {
  "kernelspec": {
   "display_name": "Python 3",
   "language": "python",
   "name": "python3"
  },
  "language_info": {
   "codemirror_mode": {
    "name": "ipython",
    "version": 3
   },
   "file_extension": ".py",
   "mimetype": "text/x-python",
   "name": "python",
   "nbconvert_exporter": "python",
   "pygments_lexer": "ipython3",
   "version": "3.8.0"
  }
 },
 "nbformat": 4,
 "nbformat_minor": 2
}
