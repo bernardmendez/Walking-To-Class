{
 "cells": [
  {
   "cell_type": "code",
   "execution_count": 544,
   "metadata": {},
   "outputs": [],
   "source": [
    "import pandas as pd\n",
    "import numpy as np\n",
    "import re\n",
    "import math\n",
    "\n",
    "%matplotlib inline\n",
    "import matplotlib.pyplot as plt"
   ]
  },
  {
   "cell_type": "code",
   "execution_count": 545,
   "metadata": {},
   "outputs": [
    {
     "name": "stdout",
     "output_type": "stream",
     "text": [
      "['sproul_target_A', 'sproul_target_B', 'sproul_court_A', 'sproul_court_B', 'sproul_powell_A', 'sproul_powell_B', 'sproul_anderson_A', 'sproul_anderson_B', 'sproul_public_A', 'sproul_public_B', 'rieber_target_A', 'rieber_target_B', 'rieber_court_A', 'rieber_court_B', 'rieber_powell_A', 'rieber_powell_B', 'rieber_anderson_A', 'rieber_anderson_B', 'rieber_public_A', 'rieber_public_B', 'deneve_target_A', 'deneve_target_B', 'deneve_court_A', 'deneve_court_B', 'deneve_powell_A', 'deneve_powell_B', 'deneve_anderson_A', 'deneve_anderson_B', 'deneve_public_A', 'deneve_public_B']\n"
     ]
    }
   ],
   "source": [
    "start = ['sproul', 'rieber', 'deneve', 'hedrick']\n",
    "stop = ['target', 'court', 'powell', 'anderson', 'public', 'yrl']\n",
    "path = ['A', 'B']\n",
    "route = []\n",
    "route_gpx = []\n",
    "\n",
    "for a in range (0, 3):\n",
    "    for b in range (0, 5):\n",
    "        route.append(start[a] + '_' + stop[b] + '_A')\n",
    "        route.append(start[a] + '_' + stop[b] + '_B')\n",
    "print(route)\n"
   ]
  },
  {
   "cell_type": "code",
   "execution_count": 591,
   "metadata": {},
   "outputs": [],
   "source": [
    "class route():\n",
    "    def __init__(self, num):\n",
    "        self.route = ['sproul_target_A', 'sproul_target_B', 'sproul_court_A', 'sproul_court_B', 'sproul_powell_A', 'sproul_powell_B', 'sproul_anderson_A', 'sproul_anderson_B', 'sproul_public_A', 'sproul_public_B', 'rieber_target_A', 'rieber_target_B', 'rieber_court_A', 'rieber_court_B', 'rieber_powell_A', 'rieber_powell_B', 'rieber_anderson_A', 'rieber_anderson_B', 'rieber_public_A', 'rieber_public_B', 'deneve_target_A', 'deneve_target_B', 'deneve_court_A', 'deneve_court_B', 'deneve_powell_A', 'deneve_powell_B', 'deneve_anderson_A', 'deneve_anderson_B', 'deneve_public_A', 'deneve_public_B']\n",
    "        self.route_name = self.route[num]\n",
    "        self.route_gpx = self.route[num] + '.gpx'\n",
    "        self.route_csv = self.route[num] + '.csv'\n",
    "        self.total_distance = 0\n",
    "        self.ascent = 0\n",
    "        self.descent = 0\n",
    "        print(self.route_csv)\n",
    "    def get_data(self):\n",
    "        lat = []\n",
    "        lon = []\n",
    "        ele = []\n",
    "        with open(self.route_gpx, 'r') as f:\n",
    "            y = f.read()\n",
    "        for lat_v in re.findall(r'\\slat=\"([\\-\\d\\.]+)\"', y):\n",
    "            lat.append(math.radians(float(lat_v)))\n",
    "        for long_v in re.findall(r'\\slon=\"([\\-\\d\\.]+)\"', y):\n",
    "            lon.append(math.radians(float(long_v)))\n",
    "        for ele_v in re.findall(r'<ele>([\\-\\d\\.]+)</ele>', y):\n",
    "            ele.append(float(ele_v))\n",
    "    def get_distance(self):\n",
    "        #inverse haversine\n",
    "        r = 3958.8 #miles (radius of earth)\n",
    "        distance = [0]\n",
    "\n",
    "        for a in range (0, len(ele)-1):\n",
    "            q = math.sin( (lat[a+1] - lat[a]) / 2)**2\n",
    "            w = math.cos(lat[a])*math.cos(lat[a+1])*math.sin( (lon[a+1] - lon[a]) / 2)**2\n",
    "            d = 2 * r * math.asin(math.sqrt( q + w )) \n",
    "            distance.append(d)\n",
    "        for a in range (0, len(distance)-1):\n",
    "            distance[a+1] += distance[a]\n",
    "        self.total_distance = (distance[len(distance)-1])\n",
    "        self.data = pd.DataFrame(list(zip(distance, ele)), columns = ['distance', 'elevation'])\n",
    "        print(f'total distance is: {self.total_distance}')\n",
    "    def get_elevation(self):\n",
    "        self.descent = 0\n",
    "        self.ascent = 0\n",
    "\n",
    "        for a in range (0, len(ele)-1):\n",
    "            temp = ele[a+1] - ele[a]\n",
    "            if temp < 0:\n",
    "                self.descent += temp * (-1)\n",
    "            else:\n",
    "                self.ascent += temp\n",
    "        print(f'the ascent is: {self.ascent}')\n",
    "        print(f'the descent is: {self.descent}')\n",
    "    def distance_data(self):\n",
    "        data.plot(kind='scatter',x='distance',y='elevation',color='red')\n",
    "        plt.show()\n",
    "    def get_gradient(self):\n",
    "        distance_m = []\n",
    "        for a in range (0, len(distance)):\n",
    "            distance_m.append(distance[a] * 1609.34)\n",
    "        gradient = []\n",
    "        avg_distance = []\n",
    "        for a in range (0, len(ele)-1):\n",
    "            rise = ele[a+1] - ele[a]\n",
    "            run = distance_m[a+1] - distance_m[a]\n",
    "            avg_distance.append( (distance[a+1] + distance[a]) / 2)\n",
    "            gradient.append(rise / run)\n",
    "        self.gradient_data = pd.DataFrame(list(zip(avg_distance, gradient)), columns = ['avg_distance', 'gradient'])\n",
    "    def gradient_data(self):\n",
    "        gradient_data.plot(kind='scatter',x='avg_distance',y='gradient',color='red')\n",
    "        plt.show()\n",
    "    def get_calories(self):\n",
    "        calories = []\n",
    "        s = 1.55 # m/s, to vary in value\n",
    "\n",
    "        # EE = 1.44 + 1.94 * s ** 0.43 + 0.24 * s ** 4\n",
    "        #       + 0.34 * s * g * (1 - 1.05 **(1 - 1.1 ** (g + 32)))\n",
    "        #    = i + j + k + l\n",
    "\n",
    "        i = 1.44\n",
    "        j = 1.94 * s ** 0.43\n",
    "        k = 0.24 * s ** 4\n",
    "        # l = 0.34 * s * gradient * (1 - 1.05 **(1 - 1.1 ** (gradient + 32)))\n",
    "\n",
    "        for a in range (0, len(gradient)):\n",
    "            ee = i + j + k + 0.34 * s * gradient[a] * (1 - 1.05 **(1 - 1.1 ** (gradient[a] + 32)))\n",
    "            calories.append(ee * (68.0389) * ((distance_m[a+1]-distance_m[a]) / s) / 4.184 / 1000)\n",
    "        self.total_calories = sum(calories)\n",
    "        print(f'total calories is: {self.total_calories}')\n",
    "    def do_everything(self):\n",
    "        self.get_data()\n",
    "        self.get_distance()\n",
    "        self.get_elevation()\n",
    "        self.get_gradient()\n",
    "        #a.distance_data()\n",
    "        #a.gradient_data()\n",
    "        self.get_calories()\n",
    "    def distance_csv(self):\n",
    "        self.data.to_csv(self.route_csv)"
   ]
  },
  {
   "cell_type": "code",
   "execution_count": 593,
   "metadata": {},
   "outputs": [
    {
     "name": "stdout",
     "output_type": "stream",
     "text": [
      "sproul_court_A.csv\n",
      "total distance is: 0.6185484276661037\n",
      "the ascent is: 12.399999999999977\n",
      "the descent is: 33.69999999999999\n",
      "total calories is: 53.8960910446994\n"
     ]
    }
   ],
   "source": [
    "a = route(2)\n",
    "a.do_everything()"
   ]
  },
  {
   "cell_type": "code",
   "execution_count": 576,
   "metadata": {},
   "outputs": [
    {
     "ename": "TypeError",
     "evalue": "__init__() missing 1 required positional argument: 'num'",
     "output_type": "error",
     "traceback": [
      "\u001b[0;31m---------------------------------------------------------------------------\u001b[0m",
      "\u001b[0;31mTypeError\u001b[0m                                 Traceback (most recent call last)",
      "\u001b[0;32m<ipython-input-576-a0beba92703b>\u001b[0m in \u001b[0;36m<module>\u001b[0;34m\u001b[0m\n\u001b[0;32m----> 1\u001b[0;31m \u001b[0mb\u001b[0m \u001b[0;34m=\u001b[0m \u001b[0mroute\u001b[0m\u001b[0;34m(\u001b[0m\u001b[0;34m)\u001b[0m\u001b[0;34m\u001b[0m\u001b[0;34m\u001b[0m\u001b[0m\n\u001b[0m",
      "\u001b[0;31mTypeError\u001b[0m: __init__() missing 1 required positional argument: 'num'"
     ]
    }
   ],
   "source": [
    "b = route()\n"
   ]
  },
  {
   "cell_type": "code",
   "execution_count": null,
   "metadata": {},
   "outputs": [],
   "source": []
  }
 ],
 "metadata": {
  "kernelspec": {
   "display_name": "Python 3",
   "language": "python",
   "name": "python3"
  },
  "language_info": {
   "codemirror_mode": {
    "name": "ipython",
    "version": 3
   },
   "file_extension": ".py",
   "mimetype": "text/x-python",
   "name": "python",
   "nbconvert_exporter": "python",
   "pygments_lexer": "ipython3",
   "version": "3.8.0"
  }
 },
 "nbformat": 4,
 "nbformat_minor": 2
}
