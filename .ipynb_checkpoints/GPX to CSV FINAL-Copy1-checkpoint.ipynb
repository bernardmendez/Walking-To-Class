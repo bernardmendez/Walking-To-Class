{
 "cells": [
  {
   "cell_type": "code",
   "execution_count": 13,
   "metadata": {},
   "outputs": [],
   "source": [
    "import pandas as pd\n",
    "import numpy as np\n",
    "import re\n",
    "import math\n",
    "\n",
    "%matplotlib inline\n",
    "import matplotlib.pyplot as plt"
   ]
  },
  {
   "cell_type": "code",
   "execution_count": 78,
   "metadata": {},
   "outputs": [
    {
     "name": "stdout",
     "output_type": "stream",
     "text": [
      "['sproul_target_A', 'sproul_target_B', 'sproul_court_A', 'sproul_court_B', 'sproul_powell_A', 'sproul_powell_B', 'sproul_anderson_A', 'sproul_anderson_B', 'sproul_public_A', 'sproul_public_B', 'rieber_target_A', 'rieber_target_B', 'rieber_court_A', 'rieber_court_B', 'rieber_powell_A', 'rieber_powell_B', 'rieber_anderson_A', 'rieber_anderson_B', 'rieber_public_A', 'rieber_public_B', 'deneve_target_A', 'deneve_target_B', 'deneve_court_A', 'deneve_court_B', 'deneve_powell_A', 'deneve_powell_B', 'deneve_anderson_A', 'deneve_anderson_B', 'deneve_public_A', 'deneve_public_B']\n"
     ]
    }
   ],
   "source": [
    "start = ['sproul', 'rieber', 'deneve', 'hedrick']\n",
    "stop = ['target', 'court', 'powell', 'anderson', 'public', 'yrl']\n",
    "path = ['A', 'B']\n",
    "route = []\n",
    "route_gpx = []\n",
    "\n",
    "for a in range (0, 3):\n",
    "    for b in range (0, 5):\n",
    "        route.append(start[a] + '_' + stop[b] + '_A')\n",
    "        route.append(start[a] + '_' + stop[b] + '_B')\n",
    "print(route)\n"
   ]
  },
  {
   "cell_type": "code",
   "execution_count": 107,
   "metadata": {},
   "outputs": [],
   "source": [
    "class route():\n",
    "    def __init__(self, num):        \n",
    "        routes = ['sproul_target_A', 'sproul_target_B', 'sproul_court_A', 'sproul_court_B', 'sproul_powell_A', 'sproul_powell_B', 'sproul_anderson_A', 'sproul_anderson_B', 'sproul_public_A', 'sproul_public_B', 'rieber_target_A', 'rieber_target_B', 'rieber_court_A', 'rieber_court_B', 'rieber_powell_A', 'rieber_powell_B', 'rieber_anderson_A', 'rieber_anderson_B', 'rieber_public_A', 'rieber_public_B', 'deneve_target_A', 'deneve_target_B', 'deneve_court_A', 'deneve_court_B', 'deneve_powell_A', 'deneve_powell_B', 'deneve_anderson_A', 'deneve_anderson_B', 'deneve_public_A', 'deneve_public_B']\n",
    "        self.route_name = routes[num]\n",
    "        self.time = []\n",
    "        self.total_calories = []\n",
    "        self.descent = 0\n",
    "        self.ascent = 0\n",
    "        self.route_info = []\n",
    "\n",
    "        \n",
    "        route_gpx = self.route_name + '.gpx'\n",
    "        route_csv = self.route_name + '.csv'\n",
    "        #print(self.route_name)\n",
    "        \n",
    "        lat = []\n",
    "        lon = []\n",
    "        ele = []\n",
    "        \n",
    "        with open(route_gpx, 'r') as f:\n",
    "            y = f.read()\n",
    "        for lat_v in re.findall(r'\\slat=\"([\\-\\d\\.]+)\"', y):\n",
    "            lat.append(math.radians(float(lat_v)))\n",
    "        for long_v in re.findall(r'\\slon=\"([\\-\\d\\.]+)\"', y):\n",
    "            lon.append(math.radians(float(long_v)))\n",
    "        for ele_v in re.findall(r'<ele>([\\-\\d\\.]+)</ele>', y):\n",
    "            ele.append(float(ele_v))\n",
    "        \n",
    "        #inverse haversine\n",
    "        r = 3958.8 #miles (radius of earth)\n",
    "        distance = [0]\n",
    "        for a in range (0, len(ele)-1):\n",
    "            q = math.sin( (lat[a+1] - lat[a]) / 2)**2\n",
    "            w = math.cos(lat[a])*math.cos(lat[a+1])*math.sin( (lon[a+1] - lon[a]) / 2)**2\n",
    "            d = 2 * r * math.asin(math.sqrt( q + w )) \n",
    "            distance.append(d)\n",
    "        for a in range (0, len(distance)-1):\n",
    "            distance[a+1] += distance[a]\n",
    "        self.total_distance = (distance[len(distance)-1])\n",
    "        self.total_distance_m = self.total_distance * 1609.34\n",
    "        \n",
    "        #data = pd.DataFrame(list(zip(distance, ele)), columns = ['distance', 'elevation'])\n",
    "        \n",
    "        #print(f'total distance is: {self.total_distance}')\n",
    "        self.route_info.append(self.total_distance)\n",
    "        self.route_info.append(self.total_distance_m)\n",
    "        \n",
    "        for a in range (0, len(ele)-1):\n",
    "            temp = ele[a+1] - ele[a]\n",
    "            if temp < 0:\n",
    "                self.descent += temp * (-1)\n",
    "            else:\n",
    "                self.ascent += temp\n",
    "        #print(f'the ascent is: {self.ascent}')\n",
    "        #print(f'the descent is: {self.descent}')\n",
    "        \n",
    "        self.route_info.append(self.ascent)\n",
    "        self.route_info.append(self.descent)\n",
    "\n",
    "\n",
    "        distance_m = []\n",
    "        for a in range (0, len(distance)):\n",
    "            distance_m.append(distance[a] * 1609.34)\n",
    "        gradient = []\n",
    "        avg_distance = []\n",
    "        for a in range (0, len(ele)-1):\n",
    "            rise = ele[a+1] - ele[a]\n",
    "            run = distance_m[a+1] - distance_m[a]\n",
    "            avg_distance.append( (distance[a+1] + distance[a]) / 2)\n",
    "            gradient.append(rise / run)\n",
    "        gradient_data = pd.DataFrame(list(zip(avg_distance, gradient)), columns = ['avg_distance', 'gradient'])\n",
    "\n",
    "        speed = [[1.25, 'slow'], [1.4, 'normal'], [1.75, 'fast']]\n",
    "\n",
    "        # EE = 1.44 + 1.94 * s ** 0.43 + 0.24 * s ** 4\n",
    "        #       + 0.34 * s * g * (1 - 1.05 **(1 - 1.1 ** (g + 32)))\n",
    "        #    = i + j + k + l\n",
    "        \n",
    "        for a in range (0, 3):\n",
    "            calories = []\n",
    "            i = 1.44\n",
    "            j = 1.94 * speed[a][0] ** 0.43\n",
    "            k = 0.24 * speed[a][0] ** 4\n",
    "            for b in range (0, len(gradient)):\n",
    "                ee = i + j + k + 0.34 * speed[a][0] * gradient[b] * (1 - 1.05 **(1 - 1.1 ** (gradient[b] + 32)))\n",
    "                calories.append(ee * (68.0389) * ((distance_m[b+1]-distance_m[b]) / speed[a][0]) / 4.184 / 1000)\n",
    "            self.total_calories.append(sum(calories))\n",
    "            self.time.append(self.total_distance_m / speed[a][0] / 60)\n",
    "            \n",
    "            self.route_info.append(self.total_calories[a])\n",
    "            self.route_info.append(self.time[a])\n",
    "            \n",
    "        self.route_inf = pd.DataFrame(self.route_info, index=route_name)\n",
    "        \n",
    "            \n",
    "            #print(f'when walking {speed[a][1]}:\\ntotal calories = {self.total_calories[a]}\\ntotal time = {self.time[a]}')\n",
    "    def distance_csv(self):\n",
    "        self.data.to_csv(self.route_csv)"
   ]
  },
  {
   "cell_type": "code",
   "execution_count": 108,
   "metadata": {},
   "outputs": [
    {
     "ename": "NameError",
     "evalue": "name 'route_name' is not defined",
     "output_type": "error",
     "traceback": [
      "\u001b[0;31m---------------------------------------------------------------------------\u001b[0m",
      "\u001b[0;31mNameError\u001b[0m                                 Traceback (most recent call last)",
      "\u001b[0;32m<ipython-input-108-2dd306fa1b04>\u001b[0m in \u001b[0;36m<module>\u001b[0;34m\u001b[0m\n\u001b[1;32m      1\u001b[0m \u001b[0mdata\u001b[0m \u001b[0;34m=\u001b[0m \u001b[0mpd\u001b[0m\u001b[0;34m.\u001b[0m\u001b[0mDataFrame\u001b[0m\u001b[0;34m(\u001b[0m\u001b[0mcolumns\u001b[0m\u001b[0;34m=\u001b[0m\u001b[0;34m(\u001b[0m\u001b[0;34m'distance(mi)'\u001b[0m\u001b[0;34m,\u001b[0m \u001b[0;34m'distance(m)'\u001b[0m\u001b[0;34m,\u001b[0m \u001b[0;34m'ascent'\u001b[0m\u001b[0;34m,\u001b[0m \u001b[0;34m'descent'\u001b[0m\u001b[0;34m,\u001b[0m \u001b[0;34m'slowcalories'\u001b[0m\u001b[0;34m,\u001b[0m \u001b[0;34m'slowtime'\u001b[0m\u001b[0;34m,\u001b[0m \u001b[0;34m'normalcalories'\u001b[0m\u001b[0;34m,\u001b[0m \u001b[0;34m'normaltime'\u001b[0m\u001b[0;34m,\u001b[0m \u001b[0;34m'fastcalories'\u001b[0m\u001b[0;34m,\u001b[0m \u001b[0;34m'fasttime'\u001b[0m\u001b[0;34m)\u001b[0m\u001b[0;34m)\u001b[0m\u001b[0;34m\u001b[0m\u001b[0;34m\u001b[0m\u001b[0m\n\u001b[1;32m      2\u001b[0m \u001b[0;32mfor\u001b[0m \u001b[0mx\u001b[0m \u001b[0;32min\u001b[0m \u001b[0mrange\u001b[0m \u001b[0;34m(\u001b[0m\u001b[0;36m0\u001b[0m\u001b[0;34m,\u001b[0m \u001b[0;36m29\u001b[0m\u001b[0;34m)\u001b[0m\u001b[0;34m:\u001b[0m\u001b[0;34m\u001b[0m\u001b[0;34m\u001b[0m\u001b[0m\n\u001b[0;32m----> 3\u001b[0;31m     \u001b[0ma\u001b[0m \u001b[0;34m=\u001b[0m \u001b[0mroute\u001b[0m\u001b[0;34m(\u001b[0m\u001b[0mx\u001b[0m\u001b[0;34m)\u001b[0m\u001b[0;34m\u001b[0m\u001b[0;34m\u001b[0m\u001b[0m\n\u001b[0m\u001b[1;32m      4\u001b[0m     \u001b[0mdata\u001b[0m\u001b[0;34m.\u001b[0m\u001b[0mappend\u001b[0m\u001b[0;34m(\u001b[0m\u001b[0ma\u001b[0m\u001b[0;34m.\u001b[0m\u001b[0mroute_inf\u001b[0m\u001b[0;34m)\u001b[0m\u001b[0;34m\u001b[0m\u001b[0;34m\u001b[0m\u001b[0m\n\u001b[1;32m      5\u001b[0m \u001b[0;34m\u001b[0m\u001b[0m\n",
      "\u001b[0;32m<ipython-input-107-2938671a299b>\u001b[0m in \u001b[0;36m__init__\u001b[0;34m(self, num)\u001b[0m\n\u001b[1;32m     91\u001b[0m             \u001b[0mself\u001b[0m\u001b[0;34m.\u001b[0m\u001b[0mroute_info\u001b[0m\u001b[0;34m.\u001b[0m\u001b[0mappend\u001b[0m\u001b[0;34m(\u001b[0m\u001b[0mself\u001b[0m\u001b[0;34m.\u001b[0m\u001b[0mtime\u001b[0m\u001b[0;34m[\u001b[0m\u001b[0ma\u001b[0m\u001b[0;34m]\u001b[0m\u001b[0;34m)\u001b[0m\u001b[0;34m\u001b[0m\u001b[0;34m\u001b[0m\u001b[0m\n\u001b[1;32m     92\u001b[0m \u001b[0;34m\u001b[0m\u001b[0m\n\u001b[0;32m---> 93\u001b[0;31m         \u001b[0mself\u001b[0m\u001b[0;34m.\u001b[0m\u001b[0mroute_inf\u001b[0m \u001b[0;34m=\u001b[0m \u001b[0mpd\u001b[0m\u001b[0;34m.\u001b[0m\u001b[0mDataFrame\u001b[0m\u001b[0;34m(\u001b[0m\u001b[0mself\u001b[0m\u001b[0;34m.\u001b[0m\u001b[0mroute_info\u001b[0m\u001b[0;34m,\u001b[0m \u001b[0mindex\u001b[0m\u001b[0;34m=\u001b[0m\u001b[0mroute_name\u001b[0m\u001b[0;34m)\u001b[0m\u001b[0;34m\u001b[0m\u001b[0;34m\u001b[0m\u001b[0m\n\u001b[0m\u001b[1;32m     94\u001b[0m \u001b[0;34m\u001b[0m\u001b[0m\n\u001b[1;32m     95\u001b[0m \u001b[0;34m\u001b[0m\u001b[0m\n",
      "\u001b[0;31mNameError\u001b[0m: name 'route_name' is not defined"
     ]
    }
   ],
   "source": [
    "data = pd.DataFrame(columns=('distance(mi)', 'distance(m)', 'ascent', 'descent', 'slowcalories', 'slowtime', 'normalcalories', 'normaltime', 'fastcalories', 'fasttime'))\n",
    "for x in range (0, 29):\n",
    "    a = route(x)\n",
    "    data.append(a.route_inf)\n",
    "    \n"
   ]
  },
  {
   "cell_type": "code",
   "execution_count": null,
   "metadata": {
    "scrolled": true
   },
   "outputs": [],
   "source": []
  },
  {
   "cell_type": "code",
   "execution_count": 84,
   "metadata": {},
   "outputs": [
    {
     "data": {
      "text/plain": [
       "[[1]]"
      ]
     },
     "execution_count": 84,
     "metadata": {},
     "output_type": "execute_result"
    }
   ],
   "source": [
    "data = [[]]\n",
    "data[0].append(1)\n",
    "data"
   ]
  },
  {
   "cell_type": "code",
   "execution_count": null,
   "metadata": {},
   "outputs": [],
   "source": []
  }
 ],
 "metadata": {
  "kernelspec": {
   "display_name": "Python 3",
   "language": "python",
   "name": "python3"
  },
  "language_info": {
   "codemirror_mode": {
    "name": "ipython",
    "version": 3
   },
   "file_extension": ".py",
   "mimetype": "text/x-python",
   "name": "python",
   "nbconvert_exporter": "python",
   "pygments_lexer": "ipython3",
   "version": "3.8.0"
  }
 },
 "nbformat": 4,
 "nbformat_minor": 2
}
