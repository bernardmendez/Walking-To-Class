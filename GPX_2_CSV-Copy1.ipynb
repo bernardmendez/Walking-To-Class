{
 "cells": [
  {
   "cell_type": "code",
   "execution_count": 13,
   "metadata": {},
   "outputs": [],
   "source": [
    "import pandas as pd\n",
    "from math import sin, cos, sqrt, degrees, radians, asin, acos\n",
    "%matplotlib inline\n",
    "import matplotlib.pyplot as plt\n",
    "import numpy as np\n",
    "\n",
    "\n",
    "x = open(\"Stop_to_Sculpture.gpx\", \"r\")\n",
    "\n",
    "lat = []\n",
    "long = []\n",
    "ele = []\n",
    "\n",
    "for a in range (0, 10000):\n",
    "    if x.read(1) == ' ' and x.read(1) == 'l':\n",
    "        x.read(4)\n",
    "        lat.append(float(x.read(9)))\n",
    "        x.read(7)\n",
    "        long.append(float(x.read(11)))\n",
    "        x.read(16)\n",
    "        ele.append(float(x.read(5)))"
   ]
  },
  {
   "cell_type": "code",
   "execution_count": 14,
   "metadata": {},
   "outputs": [],
   "source": [
    "#earth radius (mi)\n",
    "r = 3958.8\n",
    "\n",
    "distance = []\n",
    "\n",
    "#inverse haversine\n",
    "for a in range (0, len(lat) - 1):\n",
    "    lat1 = radians(lat[a])\n",
    "    lat2 = radians(lat[a+1])\n",
    "    long1 = radians(long[a])\n",
    "    long2 = radians(long[a+1])\n",
    "    urad1 = sin((lat2-lat1)/2)**2\n",
    "    urad2 = cos(lat1) * cos(lat2) * sin((long2-long1)/2)**2\n",
    "    dis = 2 * r * asin(sqrt(urad1 + urad2))    \n",
    "    if a == 0:\n",
    "        distance.append(dis)\n",
    "    else:\n",
    "        distance.append(dis + distance[a-1])"
   ]
  },
  {
   "cell_type": "code",
   "execution_count": 15,
   "metadata": {},
   "outputs": [
    {
     "name": "stdout",
     "output_type": "stream",
     "text": [
      "reverse? y/n: y\n",
      "reversed\n"
     ]
    }
   ],
   "source": [
    "elevation = []\n",
    "for a in range (0, len(ele) - 1):\n",
    "    elevation.append((ele[a] + ele[a+1]) / 2)\n",
    "\n",
    "g = input(\"reverse? y/n: \")\n",
    "if g == 'y':\n",
    "    temp = []\n",
    "    print('reversed')\n",
    "    for a in range (0, len(elevation)):\n",
    "        temp.append(elevation[len(elevation) - 1 - a])\n",
    "    elevation = temp"
   ]
  },
  {
   "cell_type": "code",
   "execution_count": 16,
   "metadata": {},
   "outputs": [
    {
     "data": {
      "text/html": [
       "<div>\n",
       "<style scoped>\n",
       "    .dataframe tbody tr th:only-of-type {\n",
       "        vertical-align: middle;\n",
       "    }\n",
       "\n",
       "    .dataframe tbody tr th {\n",
       "        vertical-align: top;\n",
       "    }\n",
       "\n",
       "    .dataframe thead th {\n",
       "        text-align: right;\n",
       "    }\n",
       "</style>\n",
       "<table border=\"1\" class=\"dataframe\">\n",
       "  <thead>\n",
       "    <tr style=\"text-align: right;\">\n",
       "      <th></th>\n",
       "      <th>distance</th>\n",
       "      <th>elevation</th>\n",
       "    </tr>\n",
       "  </thead>\n",
       "  <tbody>\n",
       "    <tr>\n",
       "      <th>0</th>\n",
       "      <td>0.004939</td>\n",
       "      <td>141.9</td>\n",
       "    </tr>\n",
       "    <tr>\n",
       "      <th>1</th>\n",
       "      <td>0.013480</td>\n",
       "      <td>140.5</td>\n",
       "    </tr>\n",
       "    <tr>\n",
       "      <th>2</th>\n",
       "      <td>0.017039</td>\n",
       "      <td>141.0</td>\n",
       "    </tr>\n",
       "    <tr>\n",
       "      <th>3</th>\n",
       "      <td>0.022818</td>\n",
       "      <td>141.0</td>\n",
       "    </tr>\n",
       "    <tr>\n",
       "      <th>4</th>\n",
       "      <td>0.028555</td>\n",
       "      <td>141.4</td>\n",
       "    </tr>\n",
       "    <tr>\n",
       "      <th>...</th>\n",
       "      <td>...</td>\n",
       "      <td>...</td>\n",
       "    </tr>\n",
       "    <tr>\n",
       "      <th>86</th>\n",
       "      <td>0.596404</td>\n",
       "      <td>131.0</td>\n",
       "    </tr>\n",
       "    <tr>\n",
       "      <th>87</th>\n",
       "      <td>0.599238</td>\n",
       "      <td>132.6</td>\n",
       "    </tr>\n",
       "    <tr>\n",
       "      <th>88</th>\n",
       "      <td>0.609364</td>\n",
       "      <td>132.8</td>\n",
       "    </tr>\n",
       "    <tr>\n",
       "      <th>89</th>\n",
       "      <td>0.617742</td>\n",
       "      <td>128.0</td>\n",
       "    </tr>\n",
       "    <tr>\n",
       "      <th>90</th>\n",
       "      <td>0.621091</td>\n",
       "      <td>123.7</td>\n",
       "    </tr>\n",
       "  </tbody>\n",
       "</table>\n",
       "<p>91 rows × 2 columns</p>\n",
       "</div>"
      ],
      "text/plain": [
       "    distance  elevation\n",
       "0   0.004939      141.9\n",
       "1   0.013480      140.5\n",
       "2   0.017039      141.0\n",
       "3   0.022818      141.0\n",
       "4   0.028555      141.4\n",
       "..       ...        ...\n",
       "86  0.596404      131.0\n",
       "87  0.599238      132.6\n",
       "88  0.609364      132.8\n",
       "89  0.617742      128.0\n",
       "90  0.621091      123.7\n",
       "\n",
       "[91 rows x 2 columns]"
      ]
     },
     "execution_count": 16,
     "metadata": {},
     "output_type": "execute_result"
    }
   ],
   "source": [
    "db = pd.DataFrame(list(zip(distance, elevation)), columns=['distance', 'elevation'])\n",
    "db"
   ]
  },
  {
   "cell_type": "code",
   "execution_count": 17,
   "metadata": {},
   "outputs": [
    {
     "data": {
      "image/png": "[encoded data removed]",
      "text/plain": [
       "<Figure size 432x288 with 1 Axes>"
      ]
     },
     "metadata": {
      "needs_background": "light"
     },
     "output_type": "display_data"
    }
   ],
   "source": [
    "#dist = distance.reshape(-1,)\n",
    "#elv = elevation.values\n",
    "\n",
    "from scipy.interpolate import make_interp_spline, BSpline\n",
    "phi = np.linspace(0, 2.*np.pi, 40)\n",
    "xnew = np.linspace(min(distance), max(distance), 30) #30 represents number of points to make between T.min and T.max\n",
    "spl = make_interp_spline(distance, elevation, k=1) #BSpline object\n",
    "altitude_feet = spl(xnew)\n",
    "altitude_mi = spl(xnew) / 5280\n",
    "\n",
    "#plot\n",
    "plt.plot(xnew, altitude_feet, 'b-')\n",
    "plt.show()"
   ]
  },
  {
   "cell_type": "code",
   "execution_count": 18,
   "metadata": {},
   "outputs": [
    {
     "data": {
      "image/png": "[encoded data removed]",
      "text/plain": [
       "<Figure size 432x288 with 1 Axes>"
      ]
     },
     "metadata": {
      "needs_background": "light"
     },
     "output_type": "display_data"
    }
   ],
   "source": [
    "grad = []\n",
    "grad_at = []\n",
    "grad_dist = []\n",
    "for a in range (0, 29):\n",
    "    dx = xnew[a + 1] - xnew[a]\n",
    "    dy = altitude_mi[a + 1] - altitude_mi[a]\n",
    "    grad.append((dy / dx) * 100)\n",
    "    temp = (xnew[a + 1] + xnew[a]) / 2\n",
    "    grad_at.append(temp)\n",
    "    grad_dist.append(dx)\n",
    "plt.plot(grad_at, grad, 'b-')\n",
    "plt.show()"
   ]
  },
  {
   "cell_type": "code",
   "execution_count": null,
   "metadata": {},
   "outputs": [],
   "source": []
  },
  {
   "cell_type": "code",
   "execution_count": null,
   "metadata": {},
   "outputs": [],
   "source": []
  },
  {
   "cell_type": "code",
   "execution_count": null,
   "metadata": {},
   "outputs": [],
   "source": []
  }
 ],
 "metadata": {
  "kernelspec": {
   "display_name": "Python 3",
   "language": "python",
   "name": "python3"
  },
  "language_info": {
   "codemirror_mode": {
    "name": "ipython",
    "version": 3
   },
   "file_extension": ".py",
   "mimetype": "text/x-python",
   "name": "python",
   "nbconvert_exporter": "python",
   "pygments_lexer": "ipython3",
   "version": "3.8.0"
  }
 },
 "nbformat": 4,
 "nbformat_minor": 2
}
