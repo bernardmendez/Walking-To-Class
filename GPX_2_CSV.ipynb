{
 "cells": [
  {
   "cell_type": "code",
   "execution_count": 21,
   "metadata": {},
   "outputs": [],
   "source": [
    "import pandas as pd\n",
    "from math import sin, cos, sqrt, degrees, radians, asin, acos\n",
    "%matplotlib inline\n",
    "import matplotlib.pyplot as plt\n",
    "import numpy as np\n",
    "\n",
    "\n",
    "x = open(\"stop_rieber.gpx\", \"r\")\n",
    "\n",
    "lat = []\n",
    "long = []\n",
    "ele = []\n",
    "\n",
    "for a in range (0, 10000):\n",
    "    if x.read(1) == 'l' and x.read(1) == 'a':\n",
    "        x.read(3)\n",
    "        lat.append(float(x.read(9)))\n",
    "        x.read(7)\n",
    "        long.append(float(x.read(11)))\n",
    "        x.read(16)\n",
    "        ele.append(float(x.read(5)))"
   ]
  },
  {
   "cell_type": "code",
   "execution_count": 22,
   "metadata": {},
   "outputs": [],
   "source": [
    "#earth radius (mi)\n",
    "r = 3958.8\n",
    "\n",
    "distance = []\n",
    "\n",
    "#inverse haversine\n",
    "for a in range (0, len(lat) - 1):\n",
    "    lat1 = radians(lat[a])\n",
    "    lat2 = radians(lat[a+1])\n",
    "    long1 = radians(long[a])\n",
    "    long2 = radians(long[a+1])\n",
    "    urad1 = sin((lat2-lat1)/2)**2\n",
    "    urad2 = cos(lat1) * cos(lat2) * sin((long2-long1)/2)**2\n",
    "    dis = 2 * r * asin(sqrt(urad1 + urad2))    \n",
    "    if a == 0:\n",
    "        distance.append(dis)\n",
    "    else:\n",
    "        distance.append(dis + distance[a-1])"
   ]
  },
  {
   "cell_type": "code",
   "execution_count": 23,
   "metadata": {},
   "outputs": [
    {
     "name": "stdout",
     "output_type": "stream",
     "text": [
      "reverse? y/n: y\n",
      "reversed\n"
     ]
    }
   ],
   "source": [
    "elevation = []\n",
    "for a in range (0, len(ele) - 1):\n",
    "    elevation.append((ele[a] + ele[a+1]) / 2)\n",
    "\n",
    "g = input(\"reverse? y/n: \")\n",
    "if g == 'y':\n",
    "    temp = []\n",
    "    print('reversed')\n",
    "    for a in range (0, len(elevation)):\n",
    "        temp.append(elevation[len(elevation) - 1 - a])\n",
    "    elevation = temp"
   ]
  },
  {
   "cell_type": "code",
   "execution_count": 24,
   "metadata": {},
   "outputs": [
    {
     "name": "stdout",
     "output_type": "stream",
     "text": [
      "16\n",
      "16\n"
     ]
    },
    {
     "data": {
      "text/html": [
       "<div>\n",
       "<style scoped>\n",
       "    .dataframe tbody tr th:only-of-type {\n",
       "        vertical-align: middle;\n",
       "    }\n",
       "\n",
       "    .dataframe tbody tr th {\n",
       "        vertical-align: top;\n",
       "    }\n",
       "\n",
       "    .dataframe thead th {\n",
       "        text-align: right;\n",
       "    }\n",
       "</style>\n",
       "<table border=\"1\" class=\"dataframe\">\n",
       "  <thead>\n",
       "    <tr style=\"text-align: right;\">\n",
       "      <th></th>\n",
       "      <th>distance</th>\n",
       "      <th>elevation</th>\n",
       "    </tr>\n",
       "  </thead>\n",
       "  <tbody>\n",
       "    <tr>\n",
       "      <th>0</th>\n",
       "      <td>0.003784</td>\n",
       "      <td>154.85</td>\n",
       "    </tr>\n",
       "    <tr>\n",
       "      <th>1</th>\n",
       "      <td>0.004319</td>\n",
       "      <td>153.00</td>\n",
       "    </tr>\n",
       "    <tr>\n",
       "      <th>2</th>\n",
       "      <td>0.006438</td>\n",
       "      <td>151.30</td>\n",
       "    </tr>\n",
       "    <tr>\n",
       "      <th>3</th>\n",
       "      <td>0.015924</td>\n",
       "      <td>149.40</td>\n",
       "    </tr>\n",
       "    <tr>\n",
       "      <th>4</th>\n",
       "      <td>0.021909</td>\n",
       "      <td>147.10</td>\n",
       "    </tr>\n",
       "    <tr>\n",
       "      <th>5</th>\n",
       "      <td>0.042005</td>\n",
       "      <td>145.00</td>\n",
       "    </tr>\n",
       "    <tr>\n",
       "      <th>6</th>\n",
       "      <td>0.062112</td>\n",
       "      <td>143.00</td>\n",
       "    </tr>\n",
       "    <tr>\n",
       "      <th>7</th>\n",
       "      <td>0.067053</td>\n",
       "      <td>142.00</td>\n",
       "    </tr>\n",
       "    <tr>\n",
       "      <th>8</th>\n",
       "      <td>0.076033</td>\n",
       "      <td>141.00</td>\n",
       "    </tr>\n",
       "    <tr>\n",
       "      <th>9</th>\n",
       "      <td>0.091651</td>\n",
       "      <td>139.95</td>\n",
       "    </tr>\n",
       "    <tr>\n",
       "      <th>10</th>\n",
       "      <td>0.094287</td>\n",
       "      <td>138.95</td>\n",
       "    </tr>\n",
       "    <tr>\n",
       "      <th>11</th>\n",
       "      <td>0.128667</td>\n",
       "      <td>137.00</td>\n",
       "    </tr>\n",
       "    <tr>\n",
       "      <th>12</th>\n",
       "      <td>0.132445</td>\n",
       "      <td>135.50</td>\n",
       "    </tr>\n",
       "    <tr>\n",
       "      <th>13</th>\n",
       "      <td>0.141065</td>\n",
       "      <td>135.55</td>\n",
       "    </tr>\n",
       "    <tr>\n",
       "      <th>14</th>\n",
       "      <td>0.152622</td>\n",
       "      <td>135.40</td>\n",
       "    </tr>\n",
       "    <tr>\n",
       "      <th>15</th>\n",
       "      <td>0.155268</td>\n",
       "      <td>134.75</td>\n",
       "    </tr>\n",
       "  </tbody>\n",
       "</table>\n",
       "</div>"
      ],
      "text/plain": [
       "    distance  elevation\n",
       "0   0.003784     154.85\n",
       "1   0.004319     153.00\n",
       "2   0.006438     151.30\n",
       "3   0.015924     149.40\n",
       "4   0.021909     147.10\n",
       "5   0.042005     145.00\n",
       "6   0.062112     143.00\n",
       "7   0.067053     142.00\n",
       "8   0.076033     141.00\n",
       "9   0.091651     139.95\n",
       "10  0.094287     138.95\n",
       "11  0.128667     137.00\n",
       "12  0.132445     135.50\n",
       "13  0.141065     135.55\n",
       "14  0.152622     135.40\n",
       "15  0.155268     134.75"
      ]
     },
     "execution_count": 24,
     "metadata": {},
     "output_type": "execute_result"
    }
   ],
   "source": [
    "print(len(distance))\n",
    "print(len(elevation))\n",
    "\n",
    "db = pd.DataFrame(list(zip(distance, elevation)), columns=['distance', 'elevation'])\n",
    "db"
   ]
  },
  {
   "cell_type": "code",
   "execution_count": 25,
   "metadata": {},
   "outputs": [
    {
     "data": {
      "image/png": "[encoded data removed]",
      "text/plain": [
       "<Figure size 432x288 with 1 Axes>"
      ]
     },
     "metadata": {
      "needs_background": "light"
     },
     "output_type": "display_data"
    }
   ],
   "source": [
    "#dist = distance.reshape(-1,)\n",
    "#elv = elevation.values\n",
    "\n",
    "from scipy.interpolate import make_interp_spline, BSpline\n",
    "phi = np.linspace(0, 2.*np.pi, 40)\n",
    "xnew = np.linspace(min(distance), max(distance), 30) #30 represents number of points to make between T.min and T.max\n",
    "spl = make_interp_spline(distance, elevation, k=1) #BSpline object\n",
    "altitude_feet = spl(xnew)\n",
    "altitude_mi = spl(xnew) / 5280\n",
    "\n",
    "#plot\n",
    "plt.plot(xnew, altitude_feet, 'b-')\n",
    "plt.show()"
   ]
  },
  {
   "cell_type": "code",
   "execution_count": 26,
   "metadata": {},
   "outputs": [
    {
     "data": {
      "image/png": "[encoded data removed]",
      "text/plain": [
       "<Figure size 432x288 with 1 Axes>"
      ]
     },
     "metadata": {
      "needs_background": "light"
     },
     "output_type": "display_data"
    }
   ],
   "source": [
    "grad = []\n",
    "grad_at = []\n",
    "grad_dist = []\n",
    "for a in range (0, 29):\n",
    "    dx = xnew[a + 1] - xnew[a]\n",
    "    dy = altitude_mi[a + 1] - altitude_mi[a]\n",
    "    grad.append((dy / dx) * 100)\n",
    "    temp = (xnew[a + 1] + xnew[a]) / 2\n",
    "    grad_at.append(temp)\n",
    "    grad_dist.append(dx)\n",
    "plt.plot(grad_at, grad, 'b-')\n",
    "plt.show()"
   ]
  },
  {
   "cell_type": "code",
   "execution_count": null,
   "metadata": {},
   "outputs": [],
   "source": []
  },
  {
   "cell_type": "code",
   "execution_count": null,
   "metadata": {},
   "outputs": [],
   "source": []
  },
  {
   "cell_type": "code",
   "execution_count": null,
   "metadata": {},
   "outputs": [],
   "source": []
  }
 ],
 "metadata": {
  "kernelspec": {
   "display_name": "Python 3",
   "language": "python",
   "name": "python3"
  },
  "language_info": {
   "codemirror_mode": {
    "name": "ipython",
    "version": 3
   },
   "file_extension": ".py",
   "mimetype": "text/x-python",
   "name": "python",
   "nbconvert_exporter": "python",
   "pygments_lexer": "ipython3",
   "version": "3.8.0"
  }
 },
 "nbformat": 4,
 "nbformat_minor": 2
}
